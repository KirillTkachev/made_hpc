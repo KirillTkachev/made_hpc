{
 "cells": [
  {
   "cell_type": "code",
   "execution_count": 1,
   "metadata": {},
   "outputs": [],
   "source": [
    "import pandas as pd\n",
    "import numpy as np\n",
    "import requests\n",
    "import re\n",
    "from datetime import datetime\n",
    "from sklearn.linear_model import LinearRegression\n",
    "from matplotlib import pyplot as plt"
   ]
  },
  {
   "cell_type": "markdown",
   "metadata": {},
   "source": [
    "# Prediction of performance of supercomputer #1 in 2025 "
   ]
  },
  {
   "cell_type": "code",
   "execution_count": 2,
   "metadata": {},
   "outputs": [],
   "source": [
    "# data from https://top500.org/statistics/perfdevel/\n",
    "data = pd.read_json(\"top_500.json\")"
   ]
  },
  {
   "cell_type": "code",
   "execution_count": 3,
   "metadata": {},
   "outputs": [
    {
     "name": "stdout",
     "output_type": "stream",
     "text": [
      "   days_from_start  top1 GFlop/s       date\n",
      "0                0          59.7 1993-06-01\n",
      "1              153         124.0 1993-11-01\n",
      "2              365         143.4 1994-06-01\n",
      "3              518         170.0 1994-11-01\n",
      "4              730         170.0 1995-06-01\n",
      "    days_from_start  top1 GFlop/s       date\n",
      "54             9862  4.155000e+08 2020-06-01\n",
      "55            10015  4.420000e+08 2020-11-01\n",
      "56            10227  4.420000e+08 2021-06-01\n",
      "57            10380  4.420000e+08 2021-11-01\n",
      "58            10592  1.100000e+09 2022-06-01\n"
     ]
    }
   ],
   "source": [
    "top1 = pd.DataFrame(data.iloc[0])\n",
    "top1.index = pd.to_datetime(top1.index)\n",
    "top1[\"date\"] = top1.index\n",
    "top1.index = (top1.index - top1.index[0]).days\n",
    "top1.reset_index(inplace=True) \n",
    "top1.rename(columns = {'index':'days_from_start', '#1': 'top1 GFlop/s'}, inplace=True)\n",
    "print(top1.head())\n",
    "print(top1.tail())"
   ]
  },
  {
   "cell_type": "code",
   "execution_count": 4,
   "metadata": {},
   "outputs": [
    {
     "data": {
      "image/png": "[encoded data removed]",
      "text/plain": [
       "<Figure size 864x432 with 1 Axes>"
      ]
     },
     "metadata": {
      "needs_background": "light"
     },
     "output_type": "display_data"
    }
   ],
   "source": [
    "plt.figure(figsize=(12, 6))\n",
    "plt.plot(top1[\"date\"], top1[\"top1 GFlop/s\"], 'go')\n",
    "plt.title('Top 1 Performance')\n",
    "plt.ylabel('GFlop/s')\n",
    "plt.yscale('log')\n",
    "plt.grid(True)\n",
    "plt.show()"
   ]
  },
  {
   "cell_type": "markdown",
   "metadata": {},
   "source": [
    "Looks like exponential growth (log-scale y)\n",
    "\n",
    "Let's fit linear regression model!"
   ]
  },
  {
   "cell_type": "code",
   "execution_count": 5,
   "metadata": {},
   "outputs": [
    {
     "data": {
      "text/plain": [
       "[10745, 10957, 11110, 11323, 11476, 11688, 11841]"
      ]
     },
     "execution_count": 5,
     "metadata": {},
     "output_type": "execute_result"
    }
   ],
   "source": [
    "START_DATE = datetime.strptime(\"1993-06-01\", \"%Y-%m-%d\").date()\n",
    "\n",
    "prediction_dates = [\"2022-11-01\", \"2023-06-01\", \"2023-11-01\", \"2024-06-01\", \n",
    "                    \"2024-11-01\",\"2025-06-01\", \"2025-11-01\" ]\n",
    "days_list = [(datetime.strptime(date, \"%Y-%m-%d\").date() - START_DATE).days for date in prediction_dates]\n",
    "days_list"
   ]
  },
  {
   "cell_type": "code",
   "execution_count": 6,
   "metadata": {},
   "outputs": [
    {
     "data": {
      "text/plain": [
       "LinearRegression()"
      ]
     },
     "execution_count": 6,
     "metadata": {},
     "output_type": "execute_result"
    }
   ],
   "source": [
    "lr_model = LinearRegression()\n",
    "lr_model.fit(np.array(top1['days_from_start']).reshape(-1, 1), np.log(top1['top1 GFlop/s']))"
   ]
  },
  {
   "cell_type": "code",
   "execution_count": 7,
   "metadata": {},
   "outputs": [],
   "source": [
    "prediction = np.exp(lr_model.predict(np.array(days_list).reshape(-1,1)))"
   ]
  },
  {
   "cell_type": "code",
   "execution_count": 8,
   "metadata": {},
   "outputs": [],
   "source": [
    "result = pd.DataFrame(data=prediction, index=prediction_dates, columns=[\"top 1 GFlop/s\"])"
   ]
  },
  {
   "cell_type": "code",
   "execution_count": 9,
   "metadata": {},
   "outputs": [
    {
     "data": {
      "text/html": [
       "<div>\n",
       "<style scoped>\n",
       "    .dataframe tbody tr th:only-of-type {\n",
       "        vertical-align: middle;\n",
       "    }\n",
       "\n",
       "    .dataframe tbody tr th {\n",
       "        vertical-align: top;\n",
       "    }\n",
       "\n",
       "    .dataframe thead th {\n",
       "        text-align: right;\n",
       "    }\n",
       "</style>\n",
       "<table border=\"1\" class=\"dataframe\">\n",
       "  <thead>\n",
       "    <tr style=\"text-align: right;\">\n",
       "      <th></th>\n",
       "      <th>top 1 GFlop/s</th>\n",
       "    </tr>\n",
       "  </thead>\n",
       "  <tbody>\n",
       "    <tr>\n",
       "      <th>2022-11-01</th>\n",
       "      <td>2.505419e+09</td>\n",
       "    </tr>\n",
       "    <tr>\n",
       "      <th>2023-06-01</th>\n",
       "      <td>3.518080e+09</td>\n",
       "    </tr>\n",
       "    <tr>\n",
       "      <th>2023-11-01</th>\n",
       "      <td>4.494717e+09</td>\n",
       "    </tr>\n",
       "    <tr>\n",
       "      <th>2024-06-01</th>\n",
       "      <td>6.321543e+09</td>\n",
       "    </tr>\n",
       "    <tr>\n",
       "      <th>2024-11-01</th>\n",
       "      <td>8.076434e+09</td>\n",
       "    </tr>\n",
       "    <tr>\n",
       "      <th>2025-06-01</th>\n",
       "      <td>1.134083e+10</td>\n",
       "    </tr>\n",
       "    <tr>\n",
       "      <th>2025-11-01</th>\n",
       "      <td>1.448911e+10</td>\n",
       "    </tr>\n",
       "  </tbody>\n",
       "</table>\n",
       "</div>"
      ],
      "text/plain": [
       "            top 1 GFlop/s\n",
       "2022-11-01   2.505419e+09\n",
       "2023-06-01   3.518080e+09\n",
       "2023-11-01   4.494717e+09\n",
       "2024-06-01   6.321543e+09\n",
       "2024-11-01   8.076434e+09\n",
       "2025-06-01   1.134083e+10\n",
       "2025-11-01   1.448911e+10"
      ]
     },
     "execution_count": 9,
     "metadata": {},
     "output_type": "execute_result"
    }
   ],
   "source": [
    "result"
   ]
  },
  {
   "cell_type": "markdown",
   "metadata": {},
   "source": [
    "According to this model, by the end of 2025 top #1 supercomputer going to have perfomance level equal to 14.5 EFlop/s"
   ]
  },
  {
   "cell_type": "markdown",
   "metadata": {},
   "source": [
    "# Estimation of the share of consumption of supercomputers"
   ]
  },
  {
   "cell_type": "markdown",
   "metadata": {},
   "source": [
    "According to https://yearbook.enerdata.net/electricity/electricity-domestic-consumption-data.html total world power consumtion is 28433 TWh."
   ]
  },
  {
   "cell_type": "code",
   "execution_count": 10,
   "metadata": {},
   "outputs": [],
   "source": [
    "TOTAL_CONSUMPTION = 28433 #TWh"
   ]
  },
  {
   "cell_type": "code",
   "execution_count": 11,
   "metadata": {},
   "outputs": [],
   "source": [
    "#data from https://www.top500.org/lists/top500/2022/06/download/GREEN500_202206.xlsx\n",
    "data = pd.read_excel(\"TOP500_202206.xlsx\")"
   ]
  },
  {
   "cell_type": "code",
   "execution_count": 12,
   "metadata": {},
   "outputs": [
    {
     "data": {
      "text/plain": [
       "0      21100.00\n",
       "1      29899.23\n",
       "2       2942.13\n",
       "3      10096.00\n",
       "4       7438.28\n",
       "         ...   \n",
       "495      835.00\n",
       "496      835.00\n",
       "497      835.00\n",
       "498      835.00\n",
       "499      835.00\n",
       "Name: Power (kW), Length: 500, dtype: float64"
      ]
     },
     "execution_count": 12,
     "metadata": {},
     "output_type": "execute_result"
    }
   ],
   "source": [
    "#Let's fill n\\a with median value\n",
    "data['Power (kW)'].fillna(data['Power (kW)'].median())"
   ]
  },
  {
   "cell_type": "code",
   "execution_count": 13,
   "metadata": {},
   "outputs": [
    {
     "name": "stdout",
     "output_type": "stream",
     "text": [
      "Total supercomputers consumption: 0.00034048645 TW\n"
     ]
    }
   ],
   "source": [
    "computer_consumption = data['Power (kW)'].sum() \n",
    "computer_consumption /= 1e9 #TW\n",
    "print(f\"Total supercomputers consumption: {computer_consumption} TW\")"
   ]
  },
  {
   "cell_type": "code",
   "execution_count": 14,
   "metadata": {},
   "outputs": [
    {
     "data": {
      "text/plain": [
       "0.010490139281820422"
      ]
     },
     "execution_count": 14,
     "metadata": {},
     "output_type": "execute_result"
    }
   ],
   "source": [
    "(computer_consumption * 24 * 365 / TOTAL_CONSUMPTION) * 100"
   ]
  },
  {
   "cell_type": "markdown",
   "metadata": {},
   "source": [
    "As we can see, according to our model, it's slightly more than 0.01% of world electricity production. Not much."
   ]
  },
  {
   "cell_type": "code",
   "execution_count": null,
   "metadata": {},
   "outputs": [],
   "source": []
  }
 ],
 "metadata": {
  "kernelspec": {
   "display_name": "Python 3 (ipykernel)",
   "language": "python",
   "name": "python3"
  },
  "language_info": {
   "codemirror_mode": {
    "name": "ipython",
    "version": 3
   },
   "file_extension": ".py",
   "mimetype": "text/x-python",
   "name": "python",
   "nbconvert_exporter": "python",
   "pygments_lexer": "ipython3",
   "version": "3.9.7"
  }
 },
 "nbformat": 4,
 "nbformat_minor": 2
}
