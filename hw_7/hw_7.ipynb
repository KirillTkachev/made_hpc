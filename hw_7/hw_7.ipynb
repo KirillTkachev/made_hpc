{
 "cells": [
  {
   "cell_type": "code",
   "execution_count": 1,
   "id": "b9d3dfbc",
   "metadata": {},
   "outputs": [],
   "source": [
    "import time\n",
    "\n",
    "import numpy as np\n",
    "from numba import njit, prange\n",
    "from SALib.sample import saltelli\n",
    "from SALib.analyze import sobol"
   ]
  },
  {
   "cell_type": "markdown",
   "id": "b867400a",
   "metadata": {},
   "source": [
    "Зафиксируйте какую-либо многомерную скалярную функцию\n",
    "и реализуйте для неё анализ чувствительности по методу Соболя\n",
    "на Python с использованием библиотеки SALib."
   ]
  },
  {
   "cell_type": "code",
   "execution_count": 2,
   "id": "40a79ab0",
   "metadata": {},
   "outputs": [],
   "source": [
    "a = 0.03\n",
    "b = 0.8\n",
    "\n",
    "def model(x):\n",
    "    return a * np.sin(x[0]) ** 2 + b * np.cos(x[1]) * np.sin(x[1]) + a * x[0] * np.sin(x[2]) ** 3"
   ]
  },
  {
   "cell_type": "code",
   "execution_count": 3,
   "id": "a68a136b",
   "metadata": {},
   "outputs": [],
   "source": [
    "problem = {\n",
    "    'num_vars' : 3,\n",
    "    'names' : ['x1', 'x2', 'x3'],\n",
    "    'bounds' : [[-np.pi, np.pi],\n",
    "                [-np.pi, np.pi],\n",
    "                [-np.pi, np.pi]\n",
    "                ]\n",
    "}"
   ]
  },
  {
   "cell_type": "markdown",
   "id": "a7ae670b",
   "metadata": {},
   "source": [
    "1) Проведите анализ чувствительности, проверьте сходимость, измерьте тайминги, 25 баллов"
   ]
  },
  {
   "cell_type": "code",
   "execution_count": 4,
   "id": "1ac8f1cf",
   "metadata": {},
   "outputs": [
    {
     "name": "stderr",
     "output_type": "stream",
     "text": [
      "/tmp/ipykernel_873532/579809499.py:3: DeprecationWarning: `salib.sample.saltelli` will be removed in SALib 1.5. Please use `salib.sample.sobol`\n",
      "  param_values = saltelli.sample(problem, n)\n",
      "/home/kirill/anaconda3/lib/python3.9/site-packages/SALib/sample/saltelli.py:109: UserWarning: \n",
      "        Convergence properties of the Sobol' sequence is only valid if\n",
      "        `N` (160000) is equal to `2^n`.\n",
      "        \n",
      "  warnings.warn(msg)\n"
     ]
    },
    {
     "name": "stdout",
     "output_type": "stream",
     "text": [
      "samples generation took 7.364480018615723 seconds\n",
      "model evaluation took 7.5197014808654785 seconds\n",
      "SA took 9.481085062026978 seconds\n",
      "[1.38562395e-03 9.87190766e-01 1.00462815e-05]\n",
      "[0.01280634 0.9871912  0.0114178 ]\n",
      "x1-x2: 1.2735497044280564e-05\n",
      "x1-x3: 0.011417271624314943\n",
      "x2-x3: -1.1573953172539859e-05\n"
     ]
    }
   ],
   "source": [
    "n = 160_000\n",
    "start = time.time()\n",
    "param_values = saltelli.sample(problem, n)\n",
    "print(\"samples generation took %s seconds\" %(time.time() - start))\n",
    "Y = np.zeros([param_values.shape[0]])\n",
    "\n",
    "start = time.time()\n",
    "for i, X in enumerate(param_values):\n",
    "    Y[i] = model(X)\n",
    "\n",
    "print(\"model evaluation took %s seconds\" %(time.time() - start))\n",
    "\n",
    "start = time.time()\n",
    "Si = sobol.analyze(problem, Y)\n",
    "\n",
    "print(\"SA took %s seconds\" %(time.time() - start))\n",
    "print(Si['S1'])\n",
    "print(Si['ST'])\n",
    "print(\"x1-x2:\", Si['S2'][0,1])\n",
    "print(\"x1-x3:\", Si['S2'][0,2])\n",
    "print(\"x2-x3:\", Si['S2'][1,2])"
   ]
  },
  {
   "cell_type": "markdown",
   "id": "ac93ffa5",
   "metadata": {},
   "source": [
    "Индексы чувствительности первого порядка положительные, но x2-x3 остается отрицательным, я пробовал увеличивать количество итераций, но это не меняет ситуацию и > 1_000_000 итераций я уже не могу запускать, не хватает памяти "
   ]
  },
  {
   "cell_type": "markdown",
   "id": "d68ae104",
   "metadata": {},
   "source": [
    "2) Ускорьте вычисления Python с использованием любой из имеющихся возможностей (PyBind11, ctypes, cython, numba), 25 баллов"
   ]
  },
  {
   "cell_type": "code",
   "execution_count": 5,
   "id": "1c80d103",
   "metadata": {},
   "outputs": [],
   "source": [
    "@njit\n",
    "def model_with_njit(x):\n",
    "    return a * np.sin(x[0]) ** 2 + b * np.cos(x[1]) * np.sin(x[1]) + a * x[0] * np.sin(x[2]) ** 3"
   ]
  },
  {
   "cell_type": "code",
   "execution_count": 6,
   "id": "9fc7b644",
   "metadata": {},
   "outputs": [
    {
     "name": "stderr",
     "output_type": "stream",
     "text": [
      "/tmp/ipykernel_873532/1662838087.py:3: DeprecationWarning: `salib.sample.saltelli` will be removed in SALib 1.5. Please use `salib.sample.sobol`\n",
      "  param_values = saltelli.sample(problem, n)\n",
      "/home/kirill/anaconda3/lib/python3.9/site-packages/SALib/sample/saltelli.py:109: UserWarning: \n",
      "        Convergence properties of the Sobol' sequence is only valid if\n",
      "        `N` (80000) is equal to `2^n`.\n",
      "        \n",
      "  warnings.warn(msg)\n"
     ]
    },
    {
     "name": "stdout",
     "output_type": "stream",
     "text": [
      "without optimizations\n",
      "samples generation took 3.606050729751587 seconds\n",
      "model evaluation took 3.8315343856811523 seconds\n",
      "SA took 4.32394814491272 seconds\n",
      "optimized with njit\n",
      "samples generation took 4.324074745178223 seconds\n",
      "model evaluation took 0.5789656639099121 seconds\n",
      "SA took 4.122646331787109 seconds\n"
     ]
    }
   ],
   "source": [
    "n = 80000\n",
    "start = time.time()\n",
    "param_values = saltelli.sample(problem, n)\n",
    "print(\"without optimizations\")\n",
    "\n",
    "print(\"samples generation took %s seconds\" %(time.time() - start))\n",
    "Y = np.zeros([param_values.shape[0]])\n",
    "\n",
    "start = time.time()\n",
    "for i, X in enumerate(param_values):\n",
    "    Y[i] = model(X)\n",
    "\n",
    "print(\"model evaluation took %s seconds\" %(time.time() - start))\n",
    "\n",
    "start = time.time()\n",
    "Si = sobol.analyze(problem, Y)\n",
    "\n",
    "print(\"SA took %s seconds\" %(time.time() - start))\n",
    "\n",
    "print(\"optimized with njit\")\n",
    "print(\"samples generation took %s seconds\" %(time.time() - start))\n",
    "Y = np.zeros([param_values.shape[0]])\n",
    "\n",
    "start = time.time()\n",
    "for i, X in enumerate(param_values):\n",
    "    Y[i] = model_with_njit(X)\n",
    "\n",
    "print(\"model evaluation took %s seconds\" %(time.time() - start))\n",
    "\n",
    "start = time.time()\n",
    "Si = sobol.analyze(problem, Y)\n",
    "\n",
    "print(\"SA took %s seconds\" %(time.time() - start))"
   ]
  },
  {
   "cell_type": "markdown",
   "id": "c96cba7f",
   "metadata": {},
   "source": [
    "С использованием jit заметно существенное ускорение"
   ]
  },
  {
   "cell_type": "markdown",
   "id": "e6d217f9",
   "metadata": {},
   "source": [
    "3) Попробуйте добавить параллелизм в вычисления, 25 баллов"
   ]
  },
  {
   "cell_type": "code",
   "execution_count": 7,
   "id": "ac911a00",
   "metadata": {},
   "outputs": [
    {
     "name": "stderr",
     "output_type": "stream",
     "text": [
      "/tmp/ipykernel_873532/1697358274.py:4: DeprecationWarning: `salib.sample.saltelli` will be removed in SALib 1.5. Please use `salib.sample.sobol`\n",
      "  param_values = saltelli.sample(problem, n)\n",
      "/home/kirill/anaconda3/lib/python3.9/site-packages/SALib/sample/saltelli.py:109: UserWarning: \n",
      "        Convergence properties of the Sobol' sequence is only valid if\n",
      "        `N` (80000) is equal to `2^n`.\n",
      "        \n",
      "  warnings.warn(msg)\n"
     ]
    },
    {
     "name": "stdout",
     "output_type": "stream",
     "text": [
      "with prange\n",
      "samples generation took 3.668898820877075 seconds\n",
      "model evaluation took 0.48519110679626465 seconds\n",
      "SA took 4.518218755722046 seconds\n"
     ]
    },
    {
     "name": "stderr",
     "output_type": "stream",
     "text": [
      "/tmp/ipykernel_873532/1697358274.py:24: DeprecationWarning: `salib.sample.saltelli` will be removed in SALib 1.5. Please use `salib.sample.sobol`\n",
      "  param_values = saltelli.sample(problem, n)\n"
     ]
    },
    {
     "name": "stdout",
     "output_type": "stream",
     "text": [
      "with njit and prange\n",
      "samples generation took 3.610607147216797 seconds\n",
      "model evaluation took 0.04232215881347656 seconds\n",
      "SA took 4.038254261016846 seconds\n"
     ]
    }
   ],
   "source": [
    "n = 80000\n",
    "\n",
    "start = time.time()\n",
    "param_values = saltelli.sample(problem, n)\n",
    "\n",
    "print(\"with prange\")\n",
    "print(\"samples generation took %s seconds\" %(time.time() - start))\n",
    "Y = np.zeros([param_values.shape[0]])\n",
    "\n",
    "start = time.time()\n",
    "for i in prange(n):\n",
    "    Y[i] = model(param_values[i])\n",
    "\n",
    "print(\"model evaluation took %s seconds\" %(time.time() - start))\n",
    "\n",
    "start = time.time()\n",
    "Si = sobol.analyze(problem, Y)\n",
    "\n",
    "print(\"SA took %s seconds\" %(time.time() - start))\n",
    "\n",
    "\n",
    "\n",
    "start = time.time()\n",
    "param_values = saltelli.sample(problem, n)\n",
    "\n",
    "print(\"with njit and prange\")\n",
    "print(\"samples generation took %s seconds\" %(time.time() - start))\n",
    "Y = np.zeros([param_values.shape[0]])\n",
    "\n",
    "start = time.time()\n",
    "for i in prange(n):\n",
    "    Y[i] = model_with_njit(param_values[i])\n",
    "\n",
    "print(\"model evaluation took %s seconds\" %(time.time() - start))\n",
    "\n",
    "start = time.time()\n",
    "Si = sobol.analyze(problem, Y)\n",
    "\n",
    "print(\"SA took %s seconds\" %(time.time() - start))"
   ]
  },
  {
   "cell_type": "markdown",
   "id": "184d3c0c",
   "metadata": {},
   "source": [
    "При использовании prange стало еще быстрее, как в случае с njit так и без него \n"
   ]
  },
  {
   "cell_type": "code",
   "execution_count": null,
   "id": "4226e92f",
   "metadata": {},
   "outputs": [],
   "source": []
  }
 ],
 "metadata": {
  "kernelspec": {
   "display_name": "Python 3 (ipykernel)",
   "language": "python",
   "name": "python3"
  },
  "language_info": {
   "codemirror_mode": {
    "name": "ipython",
    "version": 3
   },
   "file_extension": ".py",
   "mimetype": "text/x-python",
   "name": "python",
   "nbconvert_exporter": "python",
   "pygments_lexer": "ipython3",
   "version": "3.9.7"
  }
 },
 "nbformat": 4,
 "nbformat_minor": 5
}
